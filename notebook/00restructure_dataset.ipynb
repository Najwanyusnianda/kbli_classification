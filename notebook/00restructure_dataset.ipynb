{
 "cells": [
  {
   "cell_type": "code",
   "execution_count": 1,
   "metadata": {},
   "outputs": [],
   "source": [
    "def map_concat_columns(row):\n",
    "    aktivitas = row['b5r13a'] if pd.notnull(row['b5r13a']) else ''\n",
    "    produk = row['b5r13b'] if pd.notnull(row['b5r13b']) else ''\n",
    "    usaha = row['b5r13c'] if pd.notnull(row['b5r13c']) else ''\n",
    "    return f\"Aktivitas: {aktivitas}. Produk: {produk}. Usaha: {usaha}.\"\n",
    "\n",
    "\n",
    "def split_label(series):\n",
    "    label = series.iloc[0]  # fix FutureWarning\n",
    "    label_split = label.split('] ')\n",
    "    code = label_split[0].removeprefix('[')\n",
    "    label = label_split[1]\n",
    "    return code, label\n",
    "\n",
    "def cleaning_dataset(df):\n",
    "    assert isinstance(df, pd.DataFrame), \"df needs to be a pd.DataFrame\"\n",
    "    \n",
    "    df = df.dropna(subset=[\"b5r15a_label\"])  # kamu lupa simpan hasil dropna\n",
    "    df = df.dropna(subset=[\"b5r15b_label\"])  # kamu lupa simpan hasil dropna\n",
    "    df_new = df[[\"b5r13a\",\"b5r13b\",\"b5r13c\",\"b5r15a_label\",\"b5r15b_label\"]].copy()  # fix SettingWithCopyWarning\n",
    "    q_df = df_new[[\"b5r13a\",\"b5r13b\",\"b5r13c\"]]\n",
    "    \n",
    "    text_description = q_df.apply(map_concat_columns, axis=1)\n",
    "\n",
    "    kbli_df = df_new[[\"b5r15a_label\"]]\n",
    "    temp_kbli_code_label = kbli_df.apply(split_label, axis=1)\n",
    "    kbli_codes = temp_kbli_code_label.apply(lambda x: x[0])\n",
    "    kbli_labels = temp_kbli_code_label.apply(lambda x: x[1])\n",
    "\n",
    "    kbji_df = df_new[[\"b5r15b_label\"]]\n",
    "    temp_kbji_code_label = kbji_df.apply(split_label, axis=1)\n",
    "    kbji_codes = temp_kbji_code_label.apply(lambda x: x[0])\n",
    "    kbji_labels = temp_kbji_code_label.apply(lambda x: x[1])\n",
    "\n",
    "    df_new['text_description'] = text_description\n",
    "    df_new['kbli_code'] = kbli_codes\n",
    "    df_new['kbli_label'] = kbli_labels\n",
    "    df_new['kbji_code'] = kbji_codes\n",
    "    df_new['kbji_label'] = kbji_labels\n",
    "\n",
    "    clean_df = df_new[['text_description','kbli_code','kbli_label','kbji_code','kbji_label']]\n",
    "    return clean_df\n"
   ]
  },
  {
   "cell_type": "code",
   "execution_count": 2,
   "metadata": {},
   "outputs": [
    {
     "name": "stdout",
     "output_type": "stream",
     "text": [
      "Processing sheet: 6201_u\n",
      "Processing sheet: 6202_u\n",
      "Processing sheet: 6203_u\n",
      "Processing sheet: 6204_u\n",
      "Processing sheet: 6205_u\n",
      "Processing sheet: 6206_u\n",
      "Processing sheet: 6207_u\n",
      "Processing sheet: 6208_u\n",
      "Processing sheet: 6209_u\n",
      "Processing sheet: 6210_u\n",
      "Processing sheet: 6211_u\n",
      "Processing sheet: 6212_u\n",
      "Processing sheet: 6213_u\n",
      "Processing sheet: 6271_u\n"
     ]
    }
   ],
   "source": [
    "import pandas as pd\n",
    "df_path=\"../dataset/raw_sak_kalteng.xlsx\"\n",
    "\n",
    "## read excel\n",
    "sheets=pd.read_excel(df_path,sheet_name=None)\n",
    "\n",
    "# Filter sheet yang berakhiran '_u' saja\n",
    "filtered_sheets = {name: df for name, df in sheets.items() if name.endswith('_u')}\n",
    "\n",
    "\n",
    "# Dictionary untuk simpan hasil\n",
    "cleaned_data = {}\n",
    "\n",
    "# Proses semua sheet\n",
    "for sheet_name, df in filtered_sheets.items():\n",
    "    print(f\"Processing sheet: {sheet_name}\")\n",
    "    try:\n",
    "        cleaned_df = cleaning_dataset(df)\n",
    "        cleaned_data[sheet_name] = cleaned_df\n",
    "    except Exception as e:\n",
    "        print(f\"Error in sheet {sheet_name}: {e}\")"
   ]
  },
  {
   "cell_type": "code",
   "execution_count": 3,
   "metadata": {},
   "outputs": [],
   "source": [
    "# Gabungkan semua sheet yang berhasil jadi satu DataFrame\n",
    "combined_df = pd.concat(cleaned_data.values(), ignore_index=True)\n",
    "\n",
    "# Simpan ke file baru (opsional)\n",
    "combined_df.to_csv(\"../dataset/clean_sak_occupation_kalteng.csv\", index=False)\n"
   ]
  }
 ],
 "metadata": {
  "kernelspec": {
   "display_name": "base",
   "language": "python",
   "name": "python3"
  },
  "language_info": {
   "codemirror_mode": {
    "name": "ipython",
    "version": 3
   },
   "file_extension": ".py",
   "mimetype": "text/x-python",
   "name": "python",
   "nbconvert_exporter": "python",
   "pygments_lexer": "ipython3",
   "version": "3.12.3"
  }
 },
 "nbformat": 4,
 "nbformat_minor": 2
}
