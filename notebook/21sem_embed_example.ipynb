{
 "cells": [
  {
   "cell_type": "code",
   "execution_count": 2,
   "metadata": {},
   "outputs": [],
   "source": [
    "from transformers import AutoTokenizer, AutoModel\n",
    "import torch\n",
    "from torch.nn.functional import cosine_similarity"
   ]
  },
  {
   "cell_type": "code",
   "execution_count": 3,
   "metadata": {},
   "outputs": [
    {
     "data": {
      "application/vnd.jupyter.widget-view+json": {
       "model_id": "1f5a41bc47af4b7b84fa59f55de81849",
       "version_major": 2,
       "version_minor": 0
      },
      "text/plain": [
       "tokenizer_config.json:   0%|          | 0.00/2.00 [00:00<?, ?B/s]"
      ]
     },
     "metadata": {},
     "output_type": "display_data"
    },
    {
     "name": "stderr",
     "output_type": "stream",
     "text": [
      "c:\\Users\\Najwa\\miniconda3\\Lib\\site-packages\\huggingface_hub\\file_download.py:139: UserWarning: `huggingface_hub` cache-system uses symlinks by default to efficiently store duplicated files but your machine does not support them in C:\\Users\\Najwa\\.cache\\huggingface\\hub\\models--indobenchmark--indobert-base-p2. Caching files will still work but in a degraded version that might require more space on your disk. This warning can be disabled by setting the `HF_HUB_DISABLE_SYMLINKS_WARNING` environment variable. For more details, see https://huggingface.co/docs/huggingface_hub/how-to-cache#limitations.\n",
      "To support symlinks on Windows, you either need to activate Developer Mode or to run Python as an administrator. In order to activate developer mode, see this article: https://docs.microsoft.com/en-us/windows/apps/get-started/enable-your-device-for-development\n",
      "  warnings.warn(message)\n"
     ]
    },
    {
     "data": {
      "application/vnd.jupyter.widget-view+json": {
       "model_id": "b74dd848b5fa405ebf676e2ddcc9a1c1",
       "version_major": 2,
       "version_minor": 0
      },
      "text/plain": [
       "config.json:   0%|          | 0.00/1.53k [00:00<?, ?B/s]"
      ]
     },
     "metadata": {},
     "output_type": "display_data"
    },
    {
     "data": {
      "application/vnd.jupyter.widget-view+json": {
       "model_id": "2da1f231455d4763ad4f47e94f25505f",
       "version_major": 2,
       "version_minor": 0
      },
      "text/plain": [
       "vocab.txt:   0%|          | 0.00/229k [00:00<?, ?B/s]"
      ]
     },
     "metadata": {},
     "output_type": "display_data"
    },
    {
     "data": {
      "application/vnd.jupyter.widget-view+json": {
       "model_id": "f29baa65a2174b48ba7c3632b6debd17",
       "version_major": 2,
       "version_minor": 0
      },
      "text/plain": [
       "special_tokens_map.json:   0%|          | 0.00/112 [00:00<?, ?B/s]"
      ]
     },
     "metadata": {},
     "output_type": "display_data"
    },
    {
     "data": {
      "application/vnd.jupyter.widget-view+json": {
       "model_id": "0f95a0fd2952440d9c6d78b3142731e8",
       "version_major": 2,
       "version_minor": 0
      },
      "text/plain": [
       "pytorch_model.bin:   0%|          | 0.00/498M [00:00<?, ?B/s]"
      ]
     },
     "metadata": {},
     "output_type": "display_data"
    },
    {
     "data": {
      "application/vnd.jupyter.widget-view+json": {
       "model_id": "8bd8a1dc2c13468bb177755036fb5582",
       "version_major": 2,
       "version_minor": 0
      },
      "text/plain": [
       "model.safetensors:   0%|          | 0.00/498M [00:00<?, ?B/s]"
      ]
     },
     "metadata": {},
     "output_type": "display_data"
    }
   ],
   "source": [
    "tokenizer = AutoTokenizer.from_pretrained(\"indobenchmark/indobert-base-p2\")\n",
    "model = AutoModel.from_pretrained(\"indobenchmark/indobert-base-p2\")\n"
   ]
  },
  {
   "cell_type": "code",
   "execution_count": 5,
   "metadata": {},
   "outputs": [],
   "source": [
    "import pandas as pd\n",
    "df_path=\"../dataset\"\n",
    "df = pd.read_csv(df_path+\"/df_output_kalteng_sample.csv\")     # Dataset utama (input teks survei)\n",
    "kbli_db = pd.read_csv(df_path+\"/kbli2020.csv\")                # Database KBLI\n",
    "kbji_db = pd.read_csv(df_path+\"/kbji2014.csv\") "
   ]
  },
  {
   "cell_type": "code",
   "execution_count": 9,
   "metadata": {},
   "outputs": [
    {
     "data": {
      "text/plain": [
       "['Aktivitas: Menjaga warung sembako pribadi. Produk: Jasa konsume. Usaha: Warung sembako milik sendiri.',\n",
       " 'Aktivitas: Menjaga konservasi alam di danau masoraian. Produk: Konservasi alam danau masoraian. Usaha: Danau masoraian.',\n",
       " 'Aktivitas: Membantu menjaga warung angkringan milik keluarga. Produk: Makanan dan minuman siap saji. Usaha: Warung makan.',\n",
       " 'Aktivitas: MENJUAL MAKANAN RINGAN. Produk: Makanan ringan. Usaha: Penyediaan makanan ringan.',\n",
       " 'Aktivitas: OPERATOR ALAT BERAT DI PT BGA. Produk: OPERATOR ALAT BERAT. Usaha: OPERATOR ALAT BERAT DI PT BGA.']"
      ]
     },
     "execution_count": 9,
     "metadata": {},
     "output_type": "execute_result"
    }
   ],
   "source": [
    "# Ambil 5 sampel teks dari survei\n",
    "sample_texts = df[\"text_description\"].dropna().sample(5, random_state=42).tolist()\n",
    "\n",
    "sample_texts"
   ]
  },
  {
   "cell_type": "code",
   "execution_count": 10,
   "metadata": {},
   "outputs": [],
   "source": [
    "# Filter KBLI level 5 (digit == 5)\n",
    "kbli_labels = kbli_db[kbli_db[\"digit\"] == 5][[\"kode\", \"judul\", \"deskripsi\"]].dropna()\n",
    "\n",
    "# Filter KBJI level 4 (digit == 4) – label terlengkap\n",
    "kbji_labels = kbji_db[kbji_db[\"digit\"] == 4][[\"kode\", \"judul\", \"deskripsi\"]].dropna()\n"
   ]
  },
  {
   "cell_type": "code",
   "execution_count": 11,
   "metadata": {},
   "outputs": [],
   "source": [
    "# Fungsi untuk dapatkan pooled embedding dari teks\n",
    "def get_embedding(text):\n",
    "    tokens = tokenizer(text, return_tensors=\"pt\", truncation=True, padding=True)\n",
    "    with torch.no_grad():\n",
    "        outputs = model(**tokens)\n",
    "    return outputs.pooler_output.squeeze(0)"
   ]
  },
  {
   "cell_type": "code",
   "execution_count": 14,
   "metadata": {},
   "outputs": [],
   "source": [
    "# Representasi KBLI\n",
    "kbli_label_texts = (kbli_labels[\"judul\"] + \". \" + kbli_labels[\"deskripsi\"].str[:256]).tolist()\n",
    "kbli_embeddings = torch.stack([get_embedding(text) for text in kbli_label_texts])\n",
    "\n",
    "# Representasi KBJI\n",
    "kbji_label_texts = (kbji_labels[\"judul\"] + \". \" + kbji_labels[\"deskripsi\"].str[:256]).tolist()\n",
    "kbji_embeddings = torch.stack([get_embedding(text) for text in kbji_label_texts])\n"
   ]
  },
  {
   "cell_type": "code",
   "execution_count": 18,
   "metadata": {},
   "outputs": [],
   "source": [
    "results = []\n",
    "\n",
    "for text in sample_texts:\n",
    "    input_emb = get_embedding(text)\n",
    "\n",
    "    # Cosine similarity ke semua label\n",
    "    sim_kbli = cosine_similarity(input_emb.unsqueeze(0), kbli_embeddings).squeeze()\n",
    "    sim_kbji = cosine_similarity(input_emb.unsqueeze(0), kbji_embeddings).squeeze()\n",
    "\n",
    "    # Ambil prediksi terbaik\n",
    "    kbli_idx = sim_kbli.argmax().item()\n",
    "    kbji_idx = sim_kbji.argmax().item()\n",
    "\n",
    "    pred_kbli = kbli_labels.iloc[kbli_idx]\n",
    "    pred_kbji = kbji_labels.iloc[kbji_idx]\n",
    "\n",
    "    results.append({\n",
    "        \"input_text\": text,\n",
    "        \"kbli_pred_code\": pred_kbli[\"kode\"],\n",
    "        \"kbli_pred_label\": pred_kbli[\"judul\"],\n",
    "        \"kbji_pred_code\": pred_kbji[\"kode\"],\n",
    "        \"kbji_pred_label\": pred_kbji[\"judul\"],\n",
    "    })\n"
   ]
  },
  {
   "cell_type": "code",
   "execution_count": 19,
   "metadata": {},
   "outputs": [
    {
     "data": {
      "text/html": [
       "<div>\n",
       "<style scoped>\n",
       "    .dataframe tbody tr th:only-of-type {\n",
       "        vertical-align: middle;\n",
       "    }\n",
       "\n",
       "    .dataframe tbody tr th {\n",
       "        vertical-align: top;\n",
       "    }\n",
       "\n",
       "    .dataframe thead th {\n",
       "        text-align: right;\n",
       "    }\n",
       "</style>\n",
       "<table border=\"1\" class=\"dataframe\">\n",
       "  <thead>\n",
       "    <tr style=\"text-align: right;\">\n",
       "      <th></th>\n",
       "      <th>input_text</th>\n",
       "      <th>kbli_pred_code</th>\n",
       "      <th>kbli_pred_label</th>\n",
       "      <th>kbji_pred_code</th>\n",
       "      <th>kbji_pred_label</th>\n",
       "    </tr>\n",
       "  </thead>\n",
       "  <tbody>\n",
       "    <tr>\n",
       "      <th>0</th>\n",
       "      <td>Aktivitas: Menjaga warung sembako pribadi. Pro...</td>\n",
       "      <td>82110</td>\n",
       "      <td>Aktivitas Penyedia Gabungan Jasa Administrasi ...</td>\n",
       "      <td>5131.0</td>\n",
       "      <td>Pramusaji</td>\n",
       "    </tr>\n",
       "    <tr>\n",
       "      <th>1</th>\n",
       "      <td>Aktivitas: Menjaga konservasi alam di danau ma...</td>\n",
       "      <td>91038</td>\n",
       "      <td>Hutan Lindung</td>\n",
       "      <td>5164.0</td>\n",
       "      <td>Pelatih dan Pekerja Perawatan Hewan</td>\n",
       "    </tr>\n",
       "    <tr>\n",
       "      <th>2</th>\n",
       "      <td>Aktivitas: Membantu menjaga warung angkringan ...</td>\n",
       "      <td>87901</td>\n",
       "      <td>Aktivitas Panti Asuhan Pemerintah</td>\n",
       "      <td>5164.0</td>\n",
       "      <td>Pelatih dan Pekerja Perawatan Hewan</td>\n",
       "    </tr>\n",
       "    <tr>\n",
       "      <th>3</th>\n",
       "      <td>Aktivitas: MENJUAL MAKANAN RINGAN. Produk: Mak...</td>\n",
       "      <td>23111</td>\n",
       "      <td>Industri Kaca Lembaran</td>\n",
       "      <td>7126.0</td>\n",
       "      <td>Pekerja Perpipaan</td>\n",
       "    </tr>\n",
       "    <tr>\n",
       "      <th>4</th>\n",
       "      <td>Aktivitas: OPERATOR ALAT BERAT DI PT BGA. Prod...</td>\n",
       "      <td>78431</td>\n",
       "      <td>Pelatihan Kerja Teknik Perusahaan</td>\n",
       "      <td>3113.0</td>\n",
       "      <td>Teknisi Teknik Listrik</td>\n",
       "    </tr>\n",
       "  </tbody>\n",
       "</table>\n",
       "</div>"
      ],
      "text/plain": [
       "                                          input_text kbli_pred_code  \\\n",
       "0  Aktivitas: Menjaga warung sembako pribadi. Pro...          82110   \n",
       "1  Aktivitas: Menjaga konservasi alam di danau ma...          91038   \n",
       "2  Aktivitas: Membantu menjaga warung angkringan ...          87901   \n",
       "3  Aktivitas: MENJUAL MAKANAN RINGAN. Produk: Mak...          23111   \n",
       "4  Aktivitas: OPERATOR ALAT BERAT DI PT BGA. Prod...          78431   \n",
       "\n",
       "                                     kbli_pred_label  kbji_pred_code  \\\n",
       "0  Aktivitas Penyedia Gabungan Jasa Administrasi ...          5131.0   \n",
       "1                                      Hutan Lindung          5164.0   \n",
       "2                  Aktivitas Panti Asuhan Pemerintah          5164.0   \n",
       "3                             Industri Kaca Lembaran          7126.0   \n",
       "4                  Pelatihan Kerja Teknik Perusahaan          3113.0   \n",
       "\n",
       "                       kbji_pred_label  \n",
       "0                            Pramusaji  \n",
       "1  Pelatih dan Pekerja Perawatan Hewan  \n",
       "2  Pelatih dan Pekerja Perawatan Hewan  \n",
       "3                    Pekerja Perpipaan  \n",
       "4               Teknisi Teknik Listrik  "
      ]
     },
     "execution_count": 19,
     "metadata": {},
     "output_type": "execute_result"
    }
   ],
   "source": [
    "import pandas as pd\n",
    "df_results = pd.DataFrame(results)\n",
    "df_results"
   ]
  },
  {
   "cell_type": "code",
   "execution_count": 20,
   "metadata": {},
   "outputs": [
    {
     "data": {
      "text/html": [
       "<div>\n",
       "<style scoped>\n",
       "    .dataframe tbody tr th:only-of-type {\n",
       "        vertical-align: middle;\n",
       "    }\n",
       "\n",
       "    .dataframe tbody tr th {\n",
       "        vertical-align: top;\n",
       "    }\n",
       "\n",
       "    .dataframe thead th {\n",
       "        text-align: right;\n",
       "    }\n",
       "</style>\n",
       "<table border=\"1\" class=\"dataframe\">\n",
       "  <thead>\n",
       "    <tr style=\"text-align: right;\">\n",
       "      <th></th>\n",
       "      <th>input_text</th>\n",
       "      <th>kbli_pred_code</th>\n",
       "      <th>kbli_code</th>\n",
       "      <th>kbli_match</th>\n",
       "      <th>kbji_pred_code</th>\n",
       "      <th>kbji_code</th>\n",
       "      <th>kbji_match</th>\n",
       "    </tr>\n",
       "  </thead>\n",
       "  <tbody>\n",
       "    <tr>\n",
       "      <th>0</th>\n",
       "      <td>Aktivitas: Menjaga warung sembako pribadi. Pro...</td>\n",
       "      <td>82110</td>\n",
       "      <td>47241</td>\n",
       "      <td>False</td>\n",
       "      <td>5131.0</td>\n",
       "      <td>5221</td>\n",
       "      <td>False</td>\n",
       "    </tr>\n",
       "    <tr>\n",
       "      <th>1</th>\n",
       "      <td>Aktivitas: Menjaga konservasi alam di danau ma...</td>\n",
       "      <td>91038</td>\n",
       "      <td>91035</td>\n",
       "      <td>False</td>\n",
       "      <td>5164.0</td>\n",
       "      <td>5414</td>\n",
       "      <td>False</td>\n",
       "    </tr>\n",
       "    <tr>\n",
       "      <th>2</th>\n",
       "      <td>Aktivitas: Membantu menjaga warung angkringan ...</td>\n",
       "      <td>87901</td>\n",
       "      <td>56102</td>\n",
       "      <td>False</td>\n",
       "      <td>5164.0</td>\n",
       "      <td>5169</td>\n",
       "      <td>False</td>\n",
       "    </tr>\n",
       "    <tr>\n",
       "      <th>3</th>\n",
       "      <td>Aktivitas: MENJUAL MAKANAN RINGAN. Produk: Mak...</td>\n",
       "      <td>23111</td>\n",
       "      <td>56103</td>\n",
       "      <td>False</td>\n",
       "      <td>7126.0</td>\n",
       "      <td>5211</td>\n",
       "      <td>False</td>\n",
       "    </tr>\n",
       "    <tr>\n",
       "      <th>4</th>\n",
       "      <td>Aktivitas: OPERATOR ALAT BERAT DI PT BGA. Prod...</td>\n",
       "      <td>78431</td>\n",
       "      <td>1262</td>\n",
       "      <td>False</td>\n",
       "      <td>3113.0</td>\n",
       "      <td>8341</td>\n",
       "      <td>False</td>\n",
       "    </tr>\n",
       "  </tbody>\n",
       "</table>\n",
       "</div>"
      ],
      "text/plain": [
       "                                          input_text kbli_pred_code  \\\n",
       "0  Aktivitas: Menjaga warung sembako pribadi. Pro...          82110   \n",
       "1  Aktivitas: Menjaga konservasi alam di danau ma...          91038   \n",
       "2  Aktivitas: Membantu menjaga warung angkringan ...          87901   \n",
       "3  Aktivitas: MENJUAL MAKANAN RINGAN. Produk: Mak...          23111   \n",
       "4  Aktivitas: OPERATOR ALAT BERAT DI PT BGA. Prod...          78431   \n",
       "\n",
       "   kbli_code  kbli_match  kbji_pred_code  kbji_code  kbji_match  \n",
       "0      47241       False          5131.0       5221       False  \n",
       "1      91035       False          5164.0       5414       False  \n",
       "2      56102       False          5164.0       5169       False  \n",
       "3      56103       False          7126.0       5211       False  \n",
       "4       1262       False          3113.0       8341       False  "
      ]
     },
     "execution_count": 20,
     "metadata": {},
     "output_type": "execute_result"
    }
   ],
   "source": [
    "# Ambil ground truth berdasarkan text_description\n",
    "df_truth = df[df[\"text_description\"].isin([r[\"input_text\"] for r in results])][[\n",
    "    \"text_description\", \"kbli_code\", \"kbli_label\", \"kbji_code\", \"kbji_label\"\n",
    "]]\n",
    "\n",
    "# Konversi prediksi ke DataFrame\n",
    "df_pred = pd.DataFrame(results)\n",
    "\n",
    "# Gabungkan berdasarkan text_description\n",
    "df_eval = df_pred.merge(df_truth, left_on=\"input_text\", right_on=\"text_description\")\n",
    "\n",
    "# Tambahkan kolom evaluasi akurasi\n",
    "df_eval[\"kbli_match\"] = df_eval[\"kbli_pred_code\"] == df_eval[\"kbli_code\"]\n",
    "df_eval[\"kbji_match\"] = df_eval[\"kbji_pred_code\"] == df_eval[\"kbji_code\"]\n",
    "\n",
    "df_eval[[\n",
    "    \"input_text\",\n",
    "    \"kbli_pred_code\", \"kbli_code\", \"kbli_match\",\n",
    "    \"kbji_pred_code\", \"kbji_code\", \"kbji_match\"\n",
    "]]\n"
   ]
  }
 ],
 "metadata": {
  "kernelspec": {
   "display_name": "base",
   "language": "python",
   "name": "python3"
  },
  "language_info": {
   "codemirror_mode": {
    "name": "ipython",
    "version": 3
   },
   "file_extension": ".py",
   "mimetype": "text/x-python",
   "name": "python",
   "nbconvert_exporter": "python",
   "pygments_lexer": "ipython3",
   "version": "3.12.3"
  }
 },
 "nbformat": 4,
 "nbformat_minor": 2
}
