{
 "cells": [
  {
   "cell_type": "code",
   "execution_count": 3,
   "metadata": {},
   "outputs": [
    {
     "data": {
      "text/html": [
       "<div>\n",
       "<style scoped>\n",
       "    .dataframe tbody tr th:only-of-type {\n",
       "        vertical-align: middle;\n",
       "    }\n",
       "\n",
       "    .dataframe tbody tr th {\n",
       "        vertical-align: top;\n",
       "    }\n",
       "\n",
       "    .dataframe thead th {\n",
       "        text-align: right;\n",
       "    }\n",
       "</style>\n",
       "<table border=\"1\" class=\"dataframe\">\n",
       "  <thead>\n",
       "    <tr style=\"text-align: right;\">\n",
       "      <th></th>\n",
       "      <th>text_description</th>\n",
       "      <th>kbli_code</th>\n",
       "      <th>kbji_code</th>\n",
       "    </tr>\n",
       "  </thead>\n",
       "  <tbody>\n",
       "    <tr>\n",
       "      <th>0</th>\n",
       "      <td>aktivitas: kepala desa. produk: jasa pemerinta...</td>\n",
       "      <td>84119</td>\n",
       "      <td>1113</td>\n",
       "    </tr>\n",
       "    <tr>\n",
       "      <th>1</th>\n",
       "      <td>aktivitas: mencangkul dan menanam padi. produk...</td>\n",
       "      <td>01122</td>\n",
       "      <td>6111</td>\n",
       "    </tr>\n",
       "    <tr>\n",
       "      <th>2</th>\n",
       "      <td>aktivitas: melayani administrasi di kantor kec...</td>\n",
       "      <td>84119</td>\n",
       "      <td>1213</td>\n",
       "    </tr>\n",
       "    <tr>\n",
       "      <th>3</th>\n",
       "      <td>aktivitas: administrasi smp 1 negeri teupah se...</td>\n",
       "      <td>85491</td>\n",
       "      <td>4131</td>\n",
       "    </tr>\n",
       "    <tr>\n",
       "      <th>4</th>\n",
       "      <td>aktivitas: jualan bahan makanan. produk: semba...</td>\n",
       "      <td>47112</td>\n",
       "      <td>5211</td>\n",
       "    </tr>\n",
       "  </tbody>\n",
       "</table>\n",
       "</div>"
      ],
      "text/plain": [
       "                                    text_description kbli_code kbji_code\n",
       "0  aktivitas: kepala desa. produk: jasa pemerinta...     84119      1113\n",
       "1  aktivitas: mencangkul dan menanam padi. produk...     01122      6111\n",
       "2  aktivitas: melayani administrasi di kantor kec...     84119      1213\n",
       "3  aktivitas: administrasi smp 1 negeri teupah se...     85491      4131\n",
       "4  aktivitas: jualan bahan makanan. produk: semba...     47112      5211"
      ]
     },
     "execution_count": 3,
     "metadata": {},
     "output_type": "execute_result"
    }
   ],
   "source": [
    "import pandas as pd\n",
    "df_loaded = pd.read_csv('../dataset/clean/clean_sak_occupation_full.csv', \n",
    "                        sep=',', \n",
    "                        quotechar='\"', \n",
    "                        encoding='utf-8',dtype=str)\n",
    "df_loaded.head()"
   ]
  },
  {
   "cell_type": "code",
   "execution_count": 5,
   "metadata": {},
   "outputs": [
    {
     "data": {
      "text/html": [
       "<div>\n",
       "<style scoped>\n",
       "    .dataframe tbody tr th:only-of-type {\n",
       "        vertical-align: middle;\n",
       "    }\n",
       "\n",
       "    .dataframe tbody tr th {\n",
       "        vertical-align: top;\n",
       "    }\n",
       "\n",
       "    .dataframe thead th {\n",
       "        text-align: right;\n",
       "    }\n",
       "</style>\n",
       "<table border=\"1\" class=\"dataframe\">\n",
       "  <thead>\n",
       "    <tr style=\"text-align: right;\">\n",
       "      <th></th>\n",
       "      <th>text_description</th>\n",
       "      <th>kbli_code</th>\n",
       "    </tr>\n",
       "  </thead>\n",
       "  <tbody>\n",
       "    <tr>\n",
       "      <th>0</th>\n",
       "      <td>aktivitas: kepala desa. produk: jasa pemerinta...</td>\n",
       "      <td>84119</td>\n",
       "    </tr>\n",
       "    <tr>\n",
       "      <th>1</th>\n",
       "      <td>aktivitas: mencangkul dan menanam padi. produk...</td>\n",
       "      <td>01122</td>\n",
       "    </tr>\n",
       "    <tr>\n",
       "      <th>2</th>\n",
       "      <td>aktivitas: melayani administrasi di kantor kec...</td>\n",
       "      <td>84119</td>\n",
       "    </tr>\n",
       "    <tr>\n",
       "      <th>3</th>\n",
       "      <td>aktivitas: administrasi smp 1 negeri teupah se...</td>\n",
       "      <td>85491</td>\n",
       "    </tr>\n",
       "    <tr>\n",
       "      <th>4</th>\n",
       "      <td>aktivitas: jualan bahan makanan. produk: semba...</td>\n",
       "      <td>47112</td>\n",
       "    </tr>\n",
       "  </tbody>\n",
       "</table>\n",
       "</div>"
      ],
      "text/plain": [
       "                                    text_description kbli_code\n",
       "0  aktivitas: kepala desa. produk: jasa pemerinta...     84119\n",
       "1  aktivitas: mencangkul dan menanam padi. produk...     01122\n",
       "2  aktivitas: melayani administrasi di kantor kec...     84119\n",
       "3  aktivitas: administrasi smp 1 negeri teupah se...     85491\n",
       "4  aktivitas: jualan bahan makanan. produk: semba...     47112"
      ]
     },
     "execution_count": 5,
     "metadata": {},
     "output_type": "execute_result"
    }
   ],
   "source": [
    "df_kbli=df_loaded[[\"text_description\",\"kbli_code\"]]\n",
    "\n",
    "df_kbli.head()"
   ]
  },
  {
   "cell_type": "code",
   "execution_count": 6,
   "metadata": {},
   "outputs": [
    {
     "data": {
      "text/plain": [
       "(1756, 2085667)"
      ]
     },
     "execution_count": 6,
     "metadata": {},
     "output_type": "execute_result"
    }
   ],
   "source": [
    "df_kbli[\"kbli_code\"].nunique(), len(df_kbli)\n"
   ]
  }
 ],
 "metadata": {
  "kernelspec": {
   "display_name": "base",
   "language": "python",
   "name": "python3"
  },
  "language_info": {
   "codemirror_mode": {
    "name": "ipython",
    "version": 3
   },
   "file_extension": ".py",
   "mimetype": "text/x-python",
   "name": "python",
   "nbconvert_exporter": "python",
   "pygments_lexer": "ipython3",
   "version": "3.12.3"
  }
 },
 "nbformat": 4,
 "nbformat_minor": 2
}
